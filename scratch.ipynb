{
 "cells": [
  {
   "cell_type": "code",
   "execution_count": null,
   "outputs": [],
   "source": [
    "# from lists_and_dicts import *\n",
    "import numpy as np\n",
    "import pandas as pd\n",
    "import matplotlib.pyplot as plt\n",
    "from matplotlib import ticker\n",
    "import seaborn as sns\n",
    "import plotly.express as px"
   ],
   "metadata": {
    "collapsed": false,
    "pycharm": {
     "name": "#%%\n"
    }
   }
  },
  {
   "cell_type": "code",
   "execution_count": null,
   "outputs": [],
   "source": [
    "pd.options.display.float_format = '{:,.2f}'.format\n",
    "plt.figure()\n",
    "plt.rcParams.update({'font.size': 22}) # must set at top"
   ],
   "metadata": {
    "collapsed": false,
    "pycharm": {
     "name": "#%%\n"
    }
   }
  },
  {
   "cell_type": "markdown",
   "source": [
    "# Contents\n",
    "1. Factory Productivity\n",
    "\n",
    "   1.1 raw material consumption by factory, month (value & qty, from stock_transactions.csv)\n",
    "\n",
    "   1.2 finished goods production by factory, month (value & qty, from stock_transactions.csv)\n",
    "\n",
    "   1.3 factory recoveries by  factory list, month (from financials)\n",
    "\n",
    "2. Oil Supply\n",
    "\n",
    "   2.1 tons received per month\n",
    "\n",
    "   2.2 price per ton\n",
    "\n",
    "3. Trading Performance\n",
    "\n",
    "   3.1: sales revenue by cc list\n",
    "\n",
    "   3.2: sales quantity by alt_product_group\n",
    "\n",
    "           - tuffa tanks\n",
    "\n",
    "           - GNS oil\n",
    "\n",
    "           - dazzle bleach\n",
    "\n",
    "   3.3: trading profit by cc list\n",
    "\n",
    "   3.4: trading margins by cc list\n",
    "\n",
    "4. Factory Performance"
   ],
   "metadata": {
    "collapsed": false
   }
  },
  {
   "cell_type": "markdown",
   "source": [
    "# 1. Factory Productivity\n",
    "what does the data say about factory productivity? A few notes on the data used in this section. We're looking at stock transactions, specifically at the factory warehouses. In general there are three types of stock transactions we see in factory warehouses:\n",
    "- type 0: finished goods are credited, associated with production\n",
    "- type 1: raw materials are debited, associated with production\n",
    "- type 4: goods are transferred between warehouses.\n",
    "\n",
    "In general, raw materials are received into stock at WH06. Oil is the exception, where raw materials are also received at the factory warehouse WH40. Both raw material receipts and finished goods updates are type 0 stock transactions. In the oil factory case we need to differentiate on a third index field. transaction_type=0, warehouse=40, transaction_source=0"
   ],
   "metadata": {
    "collapsed": false
   }
  },
  {
   "cell_type": "markdown",
   "source": [
    "## 1.1 productivity - raw material consumption. (transaction type 1, factory warehouse, factory cc)"
   ],
   "metadata": {
    "collapsed": false
   }
  },
  {
   "cell_type": "code",
   "execution_count": null,
   "outputs": [],
   "source": [
    "stock = pd.read_csv('data/stock_transactions.csv', index_col=[0,1,3], low_memory=False)\n",
    "new = stock['alt_product_group & cc'].str.split(n=0, expand=True)\n",
    "stock['cc'] = new[0]\n",
    "stock['alternate_product_group'] = new[1]\n",
    "stock['value'] = stock['unit_cost'] * stock['quantity']\n",
    "stock = stock.drop(columns=['alt_product_group & cc'])\n",
    "\n",
    "# WK-ISSUE: It looks like NOT ALL 'alt_product_group & cc' comply to the format of 'cc' 'apg', some of them will have\n",
    "#   the cost center number missing\n",
    "\n",
    "# answer: yes you're right, and while it looks like this is a problem, in fact i think actually a good thing. it tells us something. the transactions that don't comply are not type 1 or type 0. I haven't looked at it super closely but they mainly look like intra-transfers. we're not interested in those.\n",
    "\n",
    "num_invalid_apg = pd.isnull(stock['alternate_product_group']).sum()\n",
    "print(f'You have {num_invalid_apg} records after the preprocessing where you find invalid \"alternate_product_group\"')\n",
    "num_invalid_cc = pd.isnull(pd.to_numeric(stock['cc'], errors='coerce')).sum()\n",
    "print(f'You have {num_invalid_cc} records after the preprocessing where you find invalid \"cc\"')"
   ],
   "metadata": {
    "collapsed": false,
    "pycharm": {
     "name": "#%%\n"
    }
   }
  },
  {
   "cell_type": "code",
   "execution_count": null,
   "outputs": [],
   "source": [
    "# WK-ADVICE: From what I read from your the above, this is what I would do\n",
    "def summarise_stock(trans_type, warehouse, cost_center_id):\n",
    "\tdf = stock.xs((trans_type, warehouse))\n",
    "\tdf = df.loc[df['cc'] == cost_center_id].copy()\n",
    "\tsummary = df.pivot_table(index='month/year', values='value', aggfunc=np.sum)\n",
    "\treturn summary\n",
    "\n",
    "\n",
    "# transaction type 1\n",
    "chemical_sum = summarise_stock(1, 48, '50')\n",
    "oil_sum = summarise_stock(1, 40, '55')\n",
    "plastics_sum = summarise_stock(1, 60, '60')\n",
    "paper_sum = summarise_stock(1, 41, '80')\n",
    "tuffa_sum = summarise_stock(1, 51, '85')\n",
    "\n",
    "raw_mats_one = pd.DataFrame()\n",
    "raw_mats_one = pd.concat([raw_mats_one, chemical_sum], axis=1).rename(columns={'value': 'chemical'})\n",
    "raw_mats_one = pd.concat([raw_mats_one, oil_sum], axis=1).rename(columns={'value': 'oil'})\n",
    "raw_mats_one = pd.concat([raw_mats_one, plastics_sum], axis=1).rename(columns={'value': 'plastics'})\n",
    "raw_mats_one = pd.concat([raw_mats_one, paper_sum], axis=1).rename(columns={'value': 'paper'})\n",
    "raw_mats_one = pd.concat([raw_mats_one, tuffa_sum], axis=1).rename(columns={'value': 'tuffa'})"
   ],
   "metadata": {
    "collapsed": false,
    "pycharm": {
     "name": "#%%\n"
    }
   }
  },
  {
   "cell_type": "code",
   "execution_count": null,
   "outputs": [],
   "source": [
    "# what you've written is definitely better than mine, but isn't there not an easier way? when we do df.loc() on a dataframe with a multi index we use a tuple. Why can't we have a tuple of lists or a tuple of tuples? that would be very concise code. it might look something like this. NB: this doesn't work. it generates an error. this annoys me as i know it can be done. see these examples. they are using lists in their df.loc[()] calls. Can't figure out what i'm doing wrong:\n",
    "# https://towardsdatascience.com/how-to-use-multiindex-in-pandas-to-level-up-your-analysis-aeac7f451fce\n",
    "# https://towardsdatascience.com/accessing-data-in-a-multiindex-dataframe-in-pandas-569e8767201d\n",
    "\n",
    "# raw_materials = stock.loc[(1, FACTORY_COST_CENTERS_LIST)]"
   ],
   "metadata": {
    "collapsed": false,
    "pycharm": {
     "name": "#%%\n"
    }
   }
  },
  {
   "cell_type": "markdown",
   "source": [],
   "metadata": {
    "collapsed": false
   }
  },
  {
   "cell_type": "code",
   "execution_count": null,
   "outputs": [],
   "source": [
    "raw_mats_one.head(20)"
   ],
   "metadata": {
    "collapsed": false,
    "pycharm": {
     "name": "#%%\n"
    }
   }
  },
  {
   "cell_type": "code",
   "execution_count": null,
   "outputs": [],
   "source": [
    "ax = raw_mats_one.plot(kind='bar', stacked=True, figsize=(20, 12), fontsize='16', title='Factory Type 1', xlabel='Months', ylabel='Kina')\n",
    "ax.get_yaxis().set_major_formatter(ticker.StrMethodFormatter('{x:,.0f}'))\n",
    "# there are a couple of odd values but in general it passes the common sense test. the code is too complicated.\n",
    "# the spike in chemical in april 20 is an error in the data"
   ],
   "metadata": {
    "collapsed": false,
    "pycharm": {
     "name": "#%%\n"
    }
   }
  },
  {
   "cell_type": "markdown",
   "source": [
    "## raw material consumption (quantity)"
   ],
   "metadata": {
    "collapsed": false
   }
  },
  {
   "cell_type": "code",
   "execution_count": null,
   "outputs": [],
   "source": [
    "# transaction type 0\n",
    "chemical_sum = summarise_stock(0, 48, '50')\n",
    "oil_sum = summarise_stock(0, 40, '55')\n",
    "plastics_sum = summarise_stock(0, 60, '60')\n",
    "paper_sum = summarise_stock(0, 41, '80')\n",
    "tuffa_sum = summarise_stock(0, 51, '85')\n",
    "\n",
    "raw_mats_zero = pd.DataFrame()\n",
    "raw_mats_zero = pd.concat([raw_mats_zero, chemical_sum], axis=1).rename(columns={'value': 'chemical'})\n",
    "raw_mats_zero = pd.concat([raw_mats_zero, oil_sum], axis=1).rename(columns={'value': 'oil'})\n",
    "raw_mats_zero = pd.concat([raw_mats_zero, plastics_sum], axis=1).rename(columns={'value': 'plastics'})\n",
    "raw_mats_zero = pd.concat([raw_mats_zero, paper_sum], axis=1).rename(columns={'value': 'paper'})\n",
    "raw_mats_zero = pd.concat([raw_mats_zero, tuffa_sum], axis=1).rename(columns={'value': 'tuffa'})"
   ],
   "metadata": {
    "collapsed": false,
    "pycharm": {
     "name": "#%%\n"
    }
   }
  },
  {
   "cell_type": "code",
   "execution_count": null,
   "outputs": [],
   "source": [
    "raw_mats_zero.head(20)"
   ],
   "metadata": {
    "collapsed": false,
    "pycharm": {
     "name": "#%%\n"
    }
   }
  },
  {
   "cell_type": "code",
   "execution_count": null,
   "outputs": [],
   "source": [
    "ax = raw_mats_zero.plot(kind='bar', stacked=True, figsize=(20, 12), fontsize='16', title='Factory Type 0', xlabel='Months', ylabel='Kina')\n",
    "ax.get_yaxis().set_major_formatter(ticker.StrMethodFormatter('{x:,.0f}'))\n",
    "# this looks ok. there are a couple of odd values but in general it passes the common sense test.the code is too complicated.\n",
    "# the spike in chemical in april 20 is an error in the data\n",
    "# there is double count going on with oil, which overstates the amount of oil for transaction type 0."
   ],
   "metadata": {
    "collapsed": false,
    "pycharm": {
     "name": "#%%\n"
    }
   }
  },
  {
   "cell_type": "markdown",
   "source": [
    "## Chemical Factory Raw Materials Quantity"
   ],
   "metadata": {
    "collapsed": false
   }
  },
  {
   "cell_type": "code",
   "execution_count": null,
   "outputs": [],
   "source": [
    "chemical_raw_materials = stock.loc[(1, 48, 'B')]  # need to only look at transaction type 1 from the factory warehouses. how can i pass a list of warehouses instead of one? if i can do that, then i can achieve the above with much shorter code\n",
    "chemical_raw_materials.head()"
   ],
   "metadata": {
    "collapsed": false,
    "pycharm": {
     "name": "#%%\n"
    }
   }
  },
  {
   "cell_type": "code",
   "execution_count": null,
   "outputs": [],
   "source": [
    "chemical_raw_materials = chemical_raw_materials.pivot_table(values='value', index='month/year', columns='warehouse', aggfunc=np.sum)\n",
    "chemical_raw_materials.head(20)"
   ],
   "metadata": {
    "collapsed": false,
    "pycharm": {
     "name": "#%%\n"
    }
   }
  },
  {
   "cell_type": "code",
   "execution_count": null,
   "outputs": [],
   "source": [
    "ax = chemical_raw_materials.plot(kind='bar', stacked=True, xlabel='Month', ylabel='Kina', title='Chemical Factory Type 1', figsize=(20, 12), fontsize='16')\n",
    "ax.get_yaxis().set_major_formatter(ticker.StrMethodFormatter('{x:,.0f}'))\n",
    "# if we take out the weird number in april 20 which we know is an error, the data looks reasonable."
   ],
   "metadata": {
    "collapsed": false,
    "pycharm": {
     "name": "#%%\n"
    }
   }
  },
  {
   "cell_type": "code",
   "execution_count": null,
   "outputs": [],
   "source": [
    "chemical_factory_finished_goods = stock.loc[(0, 48, 'A')]\n",
    "chemical_factory_finished_goods = chemical_factory_finished_goods.pivot_table(values='quantity', index='month/year', columns='warehouse', aggfunc=np.sum)\n",
    "chemical_factory_finished_goods.head(20)"
   ],
   "metadata": {
    "collapsed": false,
    "pycharm": {
     "name": "#%%\n"
    }
   }
  },
  {
   "cell_type": "code",
   "execution_count": null,
   "outputs": [],
   "source": [
    "ax = chemical_factory_finished_goods.plot(kind='bar', stacked=True, xlabel='Month', ylabel='Quantity', title='Chemical Factory Type 0', figsize=(20, 12), fontsize='16')\n",
    "ax.get_yaxis().set_major_formatter(ticker.StrMethodFormatter('{x:,.0f}'))"
   ],
   "metadata": {
    "collapsed": false,
    "pycharm": {
     "name": "#%%\n"
    }
   }
  },
  {
   "cell_type": "code",
   "execution_count": null,
   "outputs": [],
   "source": [
    "chemical_factory_recoveries = chemical_factory_finished_goods + chemical_raw_materials\n",
    "chemical_factory_recoveries.head(20)"
   ],
   "metadata": {
    "collapsed": false,
    "pycharm": {
     "name": "#%%\n"
    }
   }
  },
  {
   "cell_type": "code",
   "execution_count": null,
   "outputs": [],
   "source": [
    "ax = chemical_factory_recoveries.plot(kind='bar', stacked=True, xlabel='Month', ylabel='Kina', title='Chemical Recoveries', figsize=(20, 12), fontsize='16')\n",
    "ax.get_yaxis().set_major_formatter(ticker.StrMethodFormatter('{x:,.0f}'))"
   ],
   "metadata": {
    "collapsed": false,
    "pycharm": {
     "name": "#%%\n"
    }
   }
  },
  {
   "cell_type": "markdown",
   "source": [
    "## 1.2 oil output"
   ],
   "metadata": {
    "collapsed": false
   }
  },
  {
   "cell_type": "code",
   "execution_count": null,
   "outputs": [],
   "source": [
    "oil_finished_goods = stock.loc[(0, 40, 'A')]  # as above\n",
    "oil_finished_goods = oil_finished_goods.pivot_table(values='quantity', index='month/year', columns='warehouse', aggfunc=np.sum)\n",
    "oil_finished_goods.head(20)"
   ],
   "metadata": {
    "collapsed": false,
    "pycharm": {
     "name": "#%%\n"
    }
   }
  },
  {
   "cell_type": "code",
   "execution_count": null,
   "outputs": [],
   "source": [
    "ax = oil_finished_goods.plot(kind='bar', stacked=True, title='Oil Factory Finished Goods Output (volume)', xlabel='Months', ylabel='Packs', figsize=(20, 12), fontsize='16')\n",
    "ax.get_yaxis().set_major_formatter(ticker.StrMethodFormatter('{x:,.0f}'))\n",
    "# there is a problem with oil. Its showing both receipts and production finished goods, because both are transaction type 1,"
   ],
   "metadata": {
    "collapsed": false,
    "pycharm": {
     "name": "#%%\n"
    }
   }
  },
  {
   "cell_type": "code",
   "execution_count": null,
   "outputs": [],
   "source": [
    "# for finished goods\n",
    "chemical_sum = summarise_stock(0, 48, '50')\n",
    "oil_sum = summarise_stock(0, 40, '55')\n",
    "plastics_sum = summarise_stock(0, 60, '60')\n",
    "paper_sum = summarise_stock(0, 41, '80')\n",
    "tuffa_sum = summarise_stock(0, 51, '85')\n",
    "\n",
    "finished_goods = pd.DataFrame()\n",
    "finished_goods = pd.concat([finished_goods, chemical_sum], axis=1).rename(columns={'value': 'chemical'})\n",
    "finished_goods = pd.concat([finished_goods, oil_sum], axis=1).rename(columns={'value': 'oil'})\n",
    "finished_goods = pd.concat([finished_goods, plastics_sum], axis=1).rename(columns={'value': 'plastics'})\n",
    "finished_goods = pd.concat([finished_goods, paper_sum], axis=1).rename(columns={'value': 'paper'})\n",
    "finished_goods = pd.concat([finished_goods, tuffa_sum], axis=1).rename(columns={'value': 'tuffa'})\n",
    "\n",
    "finished_goods.head(20)"
   ],
   "metadata": {
    "collapsed": false,
    "pycharm": {
     "name": "#%%\n"
    }
   }
  },
  {
   "cell_type": "code",
   "execution_count": null,
   "outputs": [],
   "source": [
    "ax = finished_goods.plot(kind='bar', stacked=True, title='Finished Goods Output (value)', xlabel='Months', ylabel='Kina', figsize=(20, 12), fontsize='16')\n",
    "ax.get_yaxis().set_major_formatter(ticker.StrMethodFormatter('{x:,.0f}'))\n",
    "# this looks pretty sensible, just need to invert it (multiply by -1)"
   ],
   "metadata": {
    "collapsed": false,
    "pycharm": {
     "name": "#%%\n"
    }
   }
  },
  {
   "cell_type": "markdown",
   "source": [
    "## 1.1.3: Factory Recoveries"
   ],
   "metadata": {
    "collapsed": false
   }
  },
  {
   "cell_type": "code",
   "execution_count": null,
   "outputs": [],
   "source": [
    "financials = pd.read_excel('data/cc99_historic.xlsx', index_col='index')\n",
    "# financials.head(150)\n",
    "manufacturing_recoveries = financials.loc['Manufacturing Recoveries']\n",
    "manufacturing_recoveries = manufacturing_recoveries.drop(labels=['accounting_code', 'cc', 'category', 'Group', 'description', 'alt_product_group'])\n",
    "# manufacturing_recoveries.head(20)"
   ],
   "metadata": {
    "collapsed": false,
    "pycharm": {
     "name": "#%%\n"
    }
   }
  },
  {
   "cell_type": "code",
   "execution_count": null,
   "outputs": [],
   "source": [
    "ax = manufacturing_recoveries.plot(kind='line', title='Factory Recoveries', rot=90, xlabel='Months', ylabel='Kina', figsize=(20, 12), fontsize='16')\n",
    "ax.get_yaxis().set_major_formatter(ticker.StrMethodFormatter('{x:,.0f}'))"
   ],
   "metadata": {
    "collapsed": false,
    "pycharm": {
     "name": "#%%\n"
    }
   }
  },
  {
   "cell_type": "markdown",
   "source": [
    "## 1.1.4: Oil supply"
   ],
   "metadata": {
    "collapsed": false
   }
  },
  {
   "cell_type": "code",
   "execution_count": null,
   "outputs": [],
   "source": [],
   "metadata": {
    "collapsed": false,
    "pycharm": {
     "name": "#%%\n"
    }
   }
  },
  {
   "cell_type": "markdown",
   "source": [
    "## 1.1.5: Oil Price\n",
    "RBD Palm Olein FOB Malaysia market price since January 2020"
   ],
   "metadata": {
    "collapsed": false
   }
  },
  {
   "cell_type": "markdown",
   "source": [
    "oil price for stock received from NBPOL"
   ],
   "metadata": {
    "collapsed": false
   }
  },
  {
   "cell_type": "code",
   "execution_count": null,
   "outputs": [],
   "source": [
    "oil_price = stock.loc[0, 40, '0']\n",
    "oil_price = oil_price.pivot_table(values='unit_cost', columns='stock_code', index='month/year', aggfunc=np.mean)\n",
    "oil_price = oil_price.drop('85-50-0010', axis=1)\n",
    "oil_price.head(20)"
   ],
   "metadata": {
    "collapsed": false,
    "pycharm": {
     "name": "#%%\n"
    }
   }
  },
  {
   "cell_type": "code",
   "execution_count": null,
   "outputs": [],
   "source": [
    "oil_price.plot(kind='line', title='Oil Price', rot=90, xlabel='Months', ylabel='Kina per kg', figsize=(20, 12), fontsize='16')"
   ],
   "metadata": {
    "collapsed": false,
    "pycharm": {
     "name": "#%%\n"
    }
   }
  },
  {
   "cell_type": "markdown",
   "source": [
    "# 2. Trading Performance 2020 - 2021\n",
    "## 2.1 Sales Revenue"
   ],
   "metadata": {
    "collapsed": false
   }
  },
  {
   "cell_type": "code",
   "execution_count": null,
   "outputs": [],
   "source": [
    "sales = pd.read_csv('data/sales_statistics.csv', low_memory=False)\n",
    "new = sales['cc_and_alt_product_group'].str.split(n=0, expand=True)\n",
    "sales['cc'] = new[0]\n",
    "sales['alternate_product_group'] = new[1]\n",
    "sales['cost_value'] = sales['cost_price_per_uom'] * sales['quantity']\n",
    "sales['sales_revenue'] = sales['price_per_uom'] * sales['quantity']\n",
    "sales['trading_profit'] = sales['sales_revenue'] - sales['cost_value']\n",
    "sales['trading_margin'] = (sales['trading_profit'] / sales['sales_revenue']) * 100  # need to change the display format\n",
    "sales = sales.drop(columns=['cc_and_alt_product_group'])\n",
    "sales.head()"
   ],
   "metadata": {
    "collapsed": false,
    "pycharm": {
     "name": "#%%\n"
    }
   }
  },
  {
   "cell_type": "code",
   "execution_count": null,
   "outputs": [],
   "source": [
    "sales_multi = sales.set_index(['order_type', 'cc', 'alternate_product_group'])\n",
    "sales_multi.head()"
   ],
   "metadata": {
    "collapsed": false,
    "pycharm": {
     "name": "#%%\n"
    }
   }
  },
  {
   "cell_type": "code",
   "execution_count": null,
   "outputs": [],
   "source": [
    "# going to have the same problems. need to be able to pass lists or dicts to loc()\n",
    "lae_retail_sales = sales_multi.loc[(1, '14')]\n",
    "# retail_sales.head()\n",
    "lae_retail_sales = lae_retail_sales.pivot_table(values='sales_revenue', index='month/year', columns='alternate_product_group', aggfunc=np.sum)\n",
    "lae_retail_sales = lae_retail_sales.drop(['ACBBOT', 'ACHCLE', 'ACKCOM', 'ACRSUN', 'ACUOIL', 'AIJSAF', 'AIPROT', 'ACMMAN'], axis=1)\n",
    "lae_retail_sales.head(20)"
   ],
   "metadata": {
    "collapsed": false,
    "pycharm": {
     "name": "#%%\n"
    }
   }
  },
  {
   "cell_type": "code",
   "execution_count": null,
   "outputs": [],
   "source": [
    "ax = lae_retail_sales.plot(kind='bar', stacked=True, title='lae retail sales revenue', xlabel='Months', ylabel='Kina', figsize=(20, 12), fontsize='16')\n",
    "ax.get_yaxis().set_major_formatter(ticker.StrMethodFormatter('{x:,.0f}'))\n",
    "# need to group the APGs. Its too noisy right now. i think we should reduce to ACTDAZ, ACJDOM, and OTHER. Need to alias the APGs using a dict"
   ],
   "metadata": {
    "collapsed": false,
    "pycharm": {
     "name": "#%%\n"
    }
   }
  },
  {
   "cell_type": "markdown",
   "source": [
    "## 2.2: Trading Profit"
   ],
   "metadata": {
    "collapsed": false
   }
  },
  {
   "cell_type": "code",
   "execution_count": null,
   "outputs": [],
   "source": [
    "lae_commercial_trading_profit = sales_multi.loc[(1, '11')]\n",
    "lae_commercial_trading_profit = lae_commercial_trading_profit.pivot_table(values='trading_profit', index='month/year', columns='alternate_product_group', aggfunc=np.sum)\n",
    "lae_commercial_trading_profit = lae_commercial_trading_profit.drop(['ACTDAZ', 'ACJDOM', 'ACTDHR', 'ACTDLP', 'RAWMAT', 'ACMCCR', 'AIXFRU', 'ACMPES', 'ACSONN', 'AICSPA', 'AIOSEH'], axis=1)\n",
    "lae_commercial_trading_profit.head(20)"
   ],
   "metadata": {
    "collapsed": false,
    "pycharm": {
     "name": "#%%\n"
    }
   }
  },
  {
   "cell_type": "code",
   "execution_count": null,
   "outputs": [],
   "source": [
    "ax = lae_commercial_trading_profit.plot(kind='bar', stacked=True, title='Lae Commercial Trading Profit', xlabel='Months', ylabel='Kina', figsize=(20, 12), fontsize='16')\n",
    "ax.get_yaxis().set_major_formatter(ticker.StrMethodFormatter('{x:,.0f}'))\n",
    "# need to group these. Its too noisy right now. alias the APGs using SHORT_COMMERCIAL_APG_DICT. Can't make this work"
   ],
   "metadata": {
    "collapsed": false,
    "pycharm": {
     "name": "#%%\n"
    }
   }
  },
  {
   "cell_type": "code",
   "execution_count": null,
   "outputs": [],
   "source": [
    "# commercial_trading_profit.to_csv('commercial_trading_profit.csv')\n",
    "# question: how can i substitute the alt_product_group code for the name that is in the dictionary?\n",
    "# question: need to find a way to aggregate multiple cost centres into commercial: process chemicals(22 & 44), plastics, etc"
   ],
   "metadata": {
    "collapsed": false,
    "pycharm": {
     "name": "#%%\n"
    }
   }
  },
  {
   "cell_type": "code",
   "execution_count": null,
   "outputs": [],
   "source": [
    "sum_column = lae_commercial_trading_profit['ACBBOT'] + lae_commercial_trading_profit['ACCFOO'] +\\\n",
    "\t\t\t lae_commercial_trading_profit['ACHCLE'] + lae_commercial_trading_profit['ACIKAT'] +\\\n",
    "\t\t\t lae_commercial_trading_profit['ACSHYD'] + lae_commercial_trading_profit['ACRSUN'] +\\\n",
    "\t\t\t lae_commercial_trading_profit['ACSCAU']\n",
    "\n",
    "# + lae_commercial_trading_profit['ACLCAT'] + lae_commercial_trading_profit['ACSENV'] + lae_commercial_trading_profit['ACSOOO'] + lae_commercial_trading_profit['AIJSAF'] + lae_commercial_trading_profit['AIPROT'] + lae_commercial_trading_profit['AIXFRU'] + lae_commercial_trading_profit['ACSALU']\n",
    "\n",
    "# question: there is something wrong with this. why is it only showing figures up to september 20? the 'OTHER' column shoudl look like the one in commercial_trading_profit.csv"
   ],
   "metadata": {
    "collapsed": false,
    "pycharm": {
     "name": "#%%\n"
    }
   }
  },
  {
   "cell_type": "code",
   "execution_count": null,
   "outputs": [],
   "source": [
    "sum_column.head(20)"
   ],
   "metadata": {
    "collapsed": false,
    "pycharm": {
     "name": "#%%\n"
    }
   }
  },
  {
   "cell_type": "code",
   "execution_count": null,
   "outputs": [],
   "source": [
    "lae_commercial_trading_profit = lae_commercial_trading_profit.drop(['ACBBOT', 'ACCFOO', 'ACHCLE', 'ACIKAT', 'ACLCAT', 'ACRSUN', 'ACSALU', 'ACSCAU', 'ACSENV', 'ACSHYD', 'ACSOOO', 'AIJSAF', 'AIPROT'], axis=1)"
   ],
   "metadata": {
    "collapsed": false,
    "pycharm": {
     "name": "#%%\n"
    }
   }
  },
  {
   "cell_type": "code",
   "execution_count": null,
   "outputs": [],
   "source": [
    "lae_commercial_trading_profit['OTHER'] = sum_column\n",
    "lae_commercial_trading_profit.head(20)"
   ],
   "metadata": {
    "collapsed": false,
    "pycharm": {
     "name": "#%%\n"
    }
   }
  },
  {
   "cell_type": "code",
   "execution_count": null,
   "outputs": [],
   "source": [
    "ax = lae_commercial_trading_profit.plot(kind='bar', stacked=True, title='Lae Commercial Trading Profit', xlabel='Months', ylabel='Kina', figsize=(20, 12), fontsize='16')\n",
    "ax.get_yaxis().set_major_formatter(ticker.StrMethodFormatter('{x:,.0f}'))"
   ],
   "metadata": {
    "collapsed": false,
    "pycharm": {
     "name": "#%%\n"
    }
   }
  },
  {
   "cell_type": "code",
   "execution_count": null,
   "outputs": [],
   "source": [
    "sales.columns.tolist()"
   ],
   "metadata": {
    "collapsed": false,
    "pycharm": {
     "name": "#%%\n"
    }
   }
  },
  {
   "cell_type": "markdown",
   "source": [
    "# 3.1 Sales Volumes of Key Product Categories\n",
    "1. GNS cooking oil\n",
    "2. dazzle bleach\n",
    "3. tuffa tanks"
   ],
   "metadata": {
    "collapsed": false
   }
  },
  {
   "cell_type": "code",
   "execution_count": null,
   "outputs": [],
   "source": [
    "multi = sales.set_index(['order_type', 'cc', 'alternate_product_group'])\n",
    "multi.head()"
   ],
   "metadata": {
    "collapsed": false,
    "pycharm": {
     "name": "#%%\n"
    }
   }
  },
  {
   "cell_type": "markdown",
   "source": [
    "### Lae Oil Sales Quantity"
   ],
   "metadata": {
    "collapsed": false
   }
  },
  {
   "cell_type": "code",
   "execution_count": null,
   "outputs": [],
   "source": [
    "lae_oil_sales_quantity = multi.loc[(1, '19')]\n",
    "lae_oil_sales_quantity = lae_oil_sales_quantity.pivot_table(values='quantity', index='month/year', columns='alternate_product_group', aggfunc=np.sum)\n",
    "lae_oil_sales_quantity = lae_oil_sales_quantity.drop(['ACBBOT', 'ACBBOT', 'ACMMAN', 'ACRSUN', 'ACTDAZ', 'AIPROT', 'AIXFRU'], axis=1)  # drop erroneous data\n",
    "lae_oil_sales_quantity.head(20)"
   ],
   "metadata": {
    "collapsed": false,
    "pycharm": {
     "name": "#%%\n"
    }
   }
  },
  {
   "cell_type": "code",
   "execution_count": null,
   "outputs": [],
   "source": [
    "ax = lae_oil_sales_quantity.plot(kind='bar', stacked=True, title='Lae Oil Sales Quantity', xlabel='Months', ylabel='Quantity (Units)', figsize=(20, 12), fontsize='16')\n",
    "ax.get_yaxis().set_major_formatter(ticker.StrMethodFormatter('{x:,.0f}'))"
   ],
   "metadata": {
    "collapsed": false,
    "pycharm": {
     "name": "#%%\n"
    }
   }
  },
  {
   "cell_type": "markdown",
   "source": [
    "### Lae Tuffa Sales Quantity"
   ],
   "metadata": {
    "collapsed": false
   }
  },
  {
   "cell_type": "code",
   "execution_count": null,
   "outputs": [],
   "source": [
    "tuffa_sales_quantity = multi.loc[(1, '29')]\n",
    "tuffa_sales_quantity = tuffa_sales_quantity.pivot_table(values='quantity', index='month/year', columns='alternate_product_group', aggfunc=np.sum)\n",
    "tuffa_sales_quantity = tuffa_sales_quantity.drop(['ACBBOT', 'ACJDOM', 'ACTDAZ', 'ACTDHR', 'ACTDLP', 'AIXFRU', 'RAWMAT'], axis=1)  # drop erroneous data\n",
    "# tuffa_sales_quantity.head(20)"
   ],
   "metadata": {
    "collapsed": false,
    "pycharm": {
     "name": "#%%\n"
    }
   }
  },
  {
   "cell_type": "code",
   "execution_count": null,
   "outputs": [],
   "source": [
    "ax = tuffa_sales_quantity.plot(kind='bar', stacked=True, title='Lae Tuffa Sales Quantity', xlabel='Months', ylabel='Quantity (Units)', figsize=(20, 12), fontsize='16')\n",
    "ax.get_yaxis().set_major_formatter(ticker.StrMethodFormatter('{x:,.0f}'))"
   ],
   "metadata": {
    "collapsed": false,
    "pycharm": {
     "name": "#%%\n"
    }
   }
  },
  {
   "cell_type": "code",
   "execution_count": null,
   "outputs": [],
   "source": [
    "lae_oil_sales_quantity = multi.loc[(1, '19')]\n",
    "lae_oil_sales_quantity = lae_oil_sales_quantity.pivot_table(values='quantity', index='month/year', columns='alternate_product_group', aggfunc=np.sum)\n",
    "lae_oil_sales_quantity = lae_oil_sales_quantity.drop(['ACBBOT', 'ACMMAN', 'ACRSUN', 'ACTDAZ', 'AIPROT', 'AIXFRU'], axis=1)  # drop erroneous data\n",
    "lae_oil_sales_quantity.head()"
   ],
   "metadata": {
    "collapsed": false,
    "pycharm": {
     "name": "#%%\n"
    }
   }
  },
  {
   "cell_type": "markdown",
   "source": [],
   "metadata": {
    "collapsed": false
   }
  }
 ],
 "metadata": {
  "kernelspec": {
   "display_name": "Python 3",
   "language": "python",
   "name": "python3"
  },
  "language_info": {
   "codemirror_mode": {
    "name": "ipython",
    "version": 3
   },
   "file_extension": ".py",
   "mimetype": "text/x-python",
   "name": "python",
   "nbconvert_exporter": "python",
   "pygments_lexer": "ipython3",
   "version": "3.8.10"
  },
  "toc-showtags": false
 },
 "nbformat": 4,
 "nbformat_minor": 5
}